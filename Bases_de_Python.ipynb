{
  "nbformat": 4,
  "nbformat_minor": 0,
  "metadata": {
    "colab": {
      "provenance": [],
      "authorship_tag": "ABX9TyP7TnVNrFGZzURoH3ijDv4p",
      "include_colab_link": true
    },
    "kernelspec": {
      "name": "python3",
      "display_name": "Python 3"
    },
    "language_info": {
      "name": "python"
    }
  },
  "cells": [
    {
      "cell_type": "markdown",
      "metadata": {
        "id": "view-in-github",
        "colab_type": "text"
      },
      "source": [
        "<a href=\"https://colab.research.google.com/github/Diegbor/Python_Pandas/blob/main/Bases_de_Python.ipynb\" target=\"_parent\"><img src=\"https://colab.research.google.com/assets/colab-badge.svg\" alt=\"Open In Colab\"/></a>"
      ]
    },
    {
      "cell_type": "markdown",
      "source": [
        "#Clase 1: Introducción a Python"
      ],
      "metadata": {
        "id": "k_x1KYoWRKE-"
      }
    },
    {
      "cell_type": "code",
      "execution_count": null,
      "metadata": {
        "colab": {
          "base_uri": "https://localhost:8080/"
        },
        "id": "kPQ_IOWoN0Qk",
        "outputId": "4ed301d4-bad2-4e96-b252-cbf075f5fbfa"
      },
      "outputs": [
        {
          "output_type": "stream",
          "name": "stdout",
          "text": [
            "Hola mundo\n"
          ]
        }
      ],
      "source": [
        "print('Hola mundo')"
      ]
    },
    {
      "cell_type": "code",
      "source": [
        "variable_nueva = 1234\n",
        "variable_nueva_2 = 123456"
      ],
      "metadata": {
        "id": "LKK34r0POq8p"
      },
      "execution_count": null,
      "outputs": []
    },
    {
      "cell_type": "code",
      "source": [
        "variable_nueva"
      ],
      "metadata": {
        "colab": {
          "base_uri": "https://localhost:8080/"
        },
        "id": "IrCRZb1OO1re",
        "outputId": "1d31c403-95b2-447c-b581-9fc19e31e5cd"
      },
      "execution_count": null,
      "outputs": [
        {
          "output_type": "execute_result",
          "data": {
            "text/plain": [
              "1234"
            ]
          },
          "metadata": {},
          "execution_count": 3
        }
      ]
    },
    {
      "cell_type": "code",
      "source": [
        "type(variable_nueva)"
      ],
      "metadata": {
        "colab": {
          "base_uri": "https://localhost:8080/"
        },
        "id": "QpNshs-FQDDD",
        "outputId": "84439806-0eba-489b-e0e1-a6997b0d3f92"
      },
      "execution_count": null,
      "outputs": [
        {
          "output_type": "execute_result",
          "data": {
            "text/plain": [
              "int"
            ]
          },
          "metadata": {},
          "execution_count": 4
        }
      ]
    },
    {
      "cell_type": "markdown",
      "source": [
        "##Operaciones Númericas"
      ],
      "metadata": {
        "id": "cnNsE1HoSh22"
      }
    },
    {
      "cell_type": "code",
      "source": [
        "var_1 = 43\n",
        "var_2 = 65\n",
        "var_3 = 17\n",
        "var_4 = 59"
      ],
      "metadata": {
        "id": "bfTYuRduShgO"
      },
      "execution_count": null,
      "outputs": []
    },
    {
      "cell_type": "code",
      "source": [
        "var_1 * var_2"
      ],
      "metadata": {
        "colab": {
          "base_uri": "https://localhost:8080/"
        },
        "id": "5bT5HjJnU6Va",
        "outputId": "c1a75890-76f9-4a33-b3e2-228672f5a0f8"
      },
      "execution_count": null,
      "outputs": [
        {
          "output_type": "execute_result",
          "data": {
            "text/plain": [
              "2795"
            ]
          },
          "metadata": {},
          "execution_count": 6
        }
      ]
    },
    {
      "cell_type": "code",
      "source": [
        "var_3 / var_4"
      ],
      "metadata": {
        "colab": {
          "base_uri": "https://localhost:8080/"
        },
        "id": "gPJLy_RdVkPX",
        "outputId": "d420f8cd-36fc-4744-a574-79a42ee90478"
      },
      "execution_count": null,
      "outputs": [
        {
          "output_type": "execute_result",
          "data": {
            "text/plain": [
              "0.288135593220339"
            ]
          },
          "metadata": {},
          "execution_count": 7
        }
      ]
    },
    {
      "cell_type": "code",
      "source": [
        "var_3 // var_4"
      ],
      "metadata": {
        "colab": {
          "base_uri": "https://localhost:8080/"
        },
        "id": "v6uWNA6jVpng",
        "outputId": "d7b68cd0-183a-4682-af6d-6f909d5b59ae"
      },
      "execution_count": null,
      "outputs": [
        {
          "output_type": "execute_result",
          "data": {
            "text/plain": [
              "0.288135593220339"
            ]
          },
          "metadata": {},
          "execution_count": 9
        }
      ]
    },
    {
      "cell_type": "code",
      "source": [
        "print(\"-\"*20 , \"Hola mundo\", \"-\"*20, sep=\" $ \")"
      ],
      "metadata": {
        "colab": {
          "base_uri": "https://localhost:8080/"
        },
        "id": "y6gK5AbuW6u6",
        "outputId": "2859937b-0bbc-499b-d389-6accb260354f"
      },
      "execution_count": null,
      "outputs": [
        {
          "output_type": "stream",
          "name": "stdout",
          "text": [
            "-------------------- $ Hola mundo $ --------------------\n"
          ]
        }
      ]
    },
    {
      "cell_type": "code",
      "source": [
        "dict={1:\"uno\",2:\"dos\"}\n",
        "listas = [1,45.5,\"45\"]\n",
        "tupla = (1,2,3,4,5,6,7,8,9,0)"
      ],
      "metadata": {
        "id": "k2qX1vgukJrF"
      },
      "execution_count": null,
      "outputs": []
    },
    {
      "cell_type": "code",
      "source": [
        "suma = var_1 + var_2\n",
        "print(f\"La suma de {var_1} + {var_2} es igual a: {suma} {var_1 + var_2}\")"
      ],
      "metadata": {
        "colab": {
          "base_uri": "https://localhost:8080/"
        },
        "id": "bT3pZvKTp50K",
        "outputId": "17c0e272-6221-4793-e18e-85f909f7c0a9"
      },
      "execution_count": null,
      "outputs": [
        {
          "output_type": "stream",
          "name": "stdout",
          "text": [
            "La suma de 43 + 65 es igual a: 108 108\n"
          ]
        }
      ]
    },
    {
      "cell_type": "markdown",
      "source": [
        "#Condicionales"
      ],
      "metadata": {
        "id": "iwF0I8yL6Fv5"
      }
    },
    {
      "cell_type": "code",
      "source": [
        "var_1 = 34\n",
        "var_2 = 12\n",
        "var_3 = 23.24\n",
        "var_4 = 23.56\n",
        "var_5 = \"OK\"\n",
        "var_6 = \"ERROR\"\n",
        "var_7 = True\n",
        "var_8 = False"
      ],
      "metadata": {
        "id": "rIafKcIW6N_R"
      },
      "execution_count": null,
      "outputs": []
    },
    {
      "cell_type": "code",
      "source": [
        "if(var_1 > var_2):\n",
        "    print(\"Es verdadero\")"
      ],
      "metadata": {
        "colab": {
          "base_uri": "https://localhost:8080/"
        },
        "id": "x0jWMutt6mEe",
        "outputId": "d974877d-ad70-40db-ce49-915094cb52fd"
      },
      "execution_count": null,
      "outputs": [
        {
          "output_type": "stream",
          "name": "stdout",
          "text": [
            "Es verdadero\n"
          ]
        }
      ]
    },
    {
      "cell_type": "code",
      "source": [
        "var_1 < var_2"
      ],
      "metadata": {
        "colab": {
          "base_uri": "https://localhost:8080/"
        },
        "id": "YHND5XN86-oO",
        "outputId": "cfe39e9b-b87f-41a2-b61d-5aff7a8fd808"
      },
      "execution_count": null,
      "outputs": [
        {
          "output_type": "execute_result",
          "data": {
            "text/plain": [
              "False"
            ]
          },
          "metadata": {},
          "execution_count": 3
        }
      ]
    },
    {
      "cell_type": "code",
      "source": [
        "var_1 >= var_4"
      ],
      "metadata": {
        "colab": {
          "base_uri": "https://localhost:8080/"
        },
        "id": "k0RkJlhW7ORN",
        "outputId": "aed8da4c-a980-4560-9826-5e6017972a7e"
      },
      "execution_count": null,
      "outputs": [
        {
          "output_type": "execute_result",
          "data": {
            "text/plain": [
              "True"
            ]
          },
          "metadata": {},
          "execution_count": 4
        }
      ]
    },
    {
      "cell_type": "code",
      "source": [
        "var_5 == var_6"
      ],
      "metadata": {
        "colab": {
          "base_uri": "https://localhost:8080/"
        },
        "id": "786gmT9O8H5q",
        "outputId": "1deb30aa-b0c5-45b9-960e-d96e5ea551f2"
      },
      "execution_count": null,
      "outputs": [
        {
          "output_type": "execute_result",
          "data": {
            "text/plain": [
              "False"
            ]
          },
          "metadata": {},
          "execution_count": 5
        }
      ]
    },
    {
      "cell_type": "code",
      "source": [
        "var_5 != var_6"
      ],
      "metadata": {
        "colab": {
          "base_uri": "https://localhost:8080/"
        },
        "id": "jP1OUbxF8Zwt",
        "outputId": "af5ed1a9-24e5-4620-fb33-a00ccc137a56"
      },
      "execution_count": null,
      "outputs": [
        {
          "output_type": "execute_result",
          "data": {
            "text/plain": [
              "True"
            ]
          },
          "metadata": {},
          "execution_count": 6
        }
      ]
    },
    {
      "cell_type": "markdown",
      "source": [
        "#Listas"
      ],
      "metadata": {
        "id": "DwmUsgnIIUZp"
      }
    },
    {
      "cell_type": "code",
      "source": [
        "inventario = ['arroz','comida','tacos']\n",
        "print(inventario)"
      ],
      "metadata": {
        "colab": {
          "base_uri": "https://localhost:8080/"
        },
        "id": "TaEcFwms94T3",
        "outputId": "b2a24ae3-e06c-4071-8007-1b10f036cb59"
      },
      "execution_count": null,
      "outputs": [
        {
          "output_type": "stream",
          "name": "stdout",
          "text": [
            "['arroz', 'comida', 'tacos']\n"
          ]
        }
      ]
    },
    {
      "cell_type": "code",
      "source": [
        "#inventario.append('croquetas')\n",
        "print(inventario)"
      ],
      "metadata": {
        "colab": {
          "base_uri": "https://localhost:8080/"
        },
        "id": "HPn_eQ1BVL1k",
        "outputId": "a9f36c2f-5f72-4763-a7b9-4d02638ba175"
      },
      "execution_count": null,
      "outputs": [
        {
          "output_type": "stream",
          "name": "stdout",
          "text": [
            "['arroz', 'comida', 'tacos', 'croquetas']\n"
          ]
        }
      ]
    },
    {
      "cell_type": "code",
      "source": [
        "inventario.pop()\n",
        "print(inventario)"
      ],
      "metadata": {
        "colab": {
          "base_uri": "https://localhost:8080/"
        },
        "id": "ymizIQhWVWf6",
        "outputId": "5435d119-483d-4817-9f7e-3b4ff13b9101"
      },
      "execution_count": null,
      "outputs": [
        {
          "output_type": "stream",
          "name": "stdout",
          "text": [
            "['arroz', 'comida', 'tacos']\n"
          ]
        }
      ]
    },
    {
      "cell_type": "code",
      "source": [
        "inventario.pop(1)\n",
        "print(inventario)"
      ],
      "metadata": {
        "colab": {
          "base_uri": "https://localhost:8080/"
        },
        "id": "lEqxnN_oVmTc",
        "outputId": "ff9d6b02-ed9a-47c7-d3f2-b22f0ce09b0d"
      },
      "execution_count": null,
      "outputs": [
        {
          "output_type": "stream",
          "name": "stdout",
          "text": [
            "['arroz', 'tacos']\n"
          ]
        }
      ]
    },
    {
      "cell_type": "code",
      "source": [
        "lista_1 = [3.4,0.7,99.9,5.41,6.23,7.9]\n",
        "lista_2 = [3.4,63.4,0.7,6.46,99.9,2.2,5.41]"
      ],
      "metadata": {
        "id": "wysturhRZRGC"
      },
      "execution_count": null,
      "outputs": []
    },
    {
      "cell_type": "code",
      "source": [
        "lista_2.pop(1)\n",
        "#lista_2.pop(3)\n",
        "#lista_2.pop(5)\n",
        "lista_1.pop(5)\n",
        "print(lista_1, lista_2)"
      ],
      "metadata": {
        "colab": {
          "base_uri": "https://localhost:8080/"
        },
        "id": "kQd9Vz1EaXYf",
        "outputId": "36604df4-d330-4dd7-b5c5-3f1461e04931"
      },
      "execution_count": null,
      "outputs": [
        {
          "output_type": "stream",
          "name": "stdout",
          "text": [
            "[3.4, 0.7, 99.9, 5.41, 6.23] [3.4, 0.7, 6.46, 99.9, 2.2, 5.41]\n"
          ]
        }
      ]
    },
    {
      "cell_type": "code",
      "source": [
        "lista_2.pop(2)"
      ],
      "metadata": {
        "colab": {
          "base_uri": "https://localhost:8080/"
        },
        "id": "mgXOb6c5bCks",
        "outputId": "493943fd-94eb-445f-b8bd-7d650991c5d0"
      },
      "execution_count": null,
      "outputs": [
        {
          "output_type": "execute_result",
          "data": {
            "text/plain": [
              "6.46"
            ]
          },
          "metadata": {},
          "execution_count": 17
        }
      ]
    },
    {
      "cell_type": "code",
      "source": [
        "lista_2.pop(3)\n",
        "print(lista_2)"
      ],
      "metadata": {
        "colab": {
          "base_uri": "https://localhost:8080/"
        },
        "id": "0rmjhz9vbJNU",
        "outputId": "c173707d-a43d-48be-cdce-23fcd9c96fde"
      },
      "execution_count": null,
      "outputs": [
        {
          "output_type": "stream",
          "name": "stdout",
          "text": [
            "[3.4, 0.7, 99.9, 5.41]\n"
          ]
        }
      ]
    },
    {
      "cell_type": "code",
      "source": [
        "lista_1.pop(4)"
      ],
      "metadata": {
        "colab": {
          "base_uri": "https://localhost:8080/"
        },
        "id": "kW6ukKksbdPO",
        "outputId": "8bb1a816-2762-43f9-b6ae-72509e6842d3"
      },
      "execution_count": null,
      "outputs": [
        {
          "output_type": "execute_result",
          "data": {
            "text/plain": [
              "6.23"
            ]
          },
          "metadata": {},
          "execution_count": 22
        }
      ]
    },
    {
      "cell_type": "code",
      "source": [
        "if(lista_1==lista_2):\n",
        "    print('Tú y yo somos uno mismo uououoooooo')"
      ],
      "metadata": {
        "colab": {
          "base_uri": "https://localhost:8080/"
        },
        "id": "tds1upLpbUWr",
        "outputId": "500e90a0-df42-4727-accb-202455367b5f"
      },
      "execution_count": null,
      "outputs": [
        {
          "output_type": "stream",
          "name": "stdout",
          "text": [
            "Tú y yo somos uno mismo uououoooooo\n"
          ]
        }
      ]
    },
    {
      "cell_type": "markdown",
      "source": [
        "#Diccionario"
      ],
      "metadata": {
        "id": "2QHrYd-5bm1i"
      }
    },
    {
      "cell_type": "code",
      "source": [
        "diccionario_1 = {\n",
        "    'llave_1' : 'lo que sea',\n",
        "    'llave_2' : 'otra cosa',\n",
        "    'llave_3' : 'una más',\n",
        "    'llave_4' : 123,\n",
        "    'llave_5' : [1,2,3,4,5]\n",
        "}\n",
        "print(diccionario_1['llave_1'])\n",
        "print(diccionario_1['llave_2'])\n",
        "print(diccionario_1['llave_3'])\n",
        "print(diccionario_1['llave_4'])\n",
        "print(diccionario_1['llave_5'])\n",
        "print(diccionario_1['llave_5'][0])"
      ],
      "metadata": {
        "colab": {
          "base_uri": "https://localhost:8080/"
        },
        "id": "Q5wyC7fnbpEB",
        "outputId": "9f2ac070-ebd2-4111-b932-119edcdd3ee6"
      },
      "execution_count": null,
      "outputs": [
        {
          "output_type": "stream",
          "name": "stdout",
          "text": [
            "lo que sea\n",
            "otra cosa\n",
            "una más\n",
            "123\n",
            "[1, 2, 3, 4, 5]\n",
            "1\n"
          ]
        }
      ]
    },
    {
      "cell_type": "code",
      "source": [
        "#Agregar un valor en particular\n",
        "diccionario_1['llave_extr']='Otra prueba'\n",
        "diccionario_1"
      ],
      "metadata": {
        "colab": {
          "base_uri": "https://localhost:8080/"
        },
        "id": "Bb-s-JTse24Z",
        "outputId": "b5c7dffe-09e6-4106-9489-86c964db308e"
      },
      "execution_count": null,
      "outputs": [
        {
          "output_type": "execute_result",
          "data": {
            "text/plain": [
              "{'llave_1': 'lo que sea',\n",
              " 'llave_2': 'otra cosa',\n",
              " 'llave_3': 'una más',\n",
              " 'llave_4': 123,\n",
              " 'llave_5': [1, 2, 3, 4, 5],\n",
              " 'llave_extr': 'Otra prueba'}"
            ]
          },
          "metadata": {},
          "execution_count": 30
        }
      ]
    },
    {
      "cell_type": "code",
      "source": [
        "#Eliminar valores de diccionario\n",
        "diccionario_1.pop('llave_extr')\n",
        "diccionario_1"
      ],
      "metadata": {
        "colab": {
          "base_uri": "https://localhost:8080/"
        },
        "id": "nGP2YylgfYnr",
        "outputId": "e66c0208-0b4a-47d2-8822-03b08e1dfa72"
      },
      "execution_count": null,
      "outputs": [
        {
          "output_type": "execute_result",
          "data": {
            "text/plain": [
              "{'llave_1': 'lo que sea',\n",
              " 'llave_2': 'otra cosa',\n",
              " 'llave_3': 'una más',\n",
              " 'llave_4': 123,\n",
              " 'llave_5': [1, 2, 3, 4, 5]}"
            ]
          },
          "metadata": {},
          "execution_count": 31
        }
      ]
    },
    {
      "cell_type": "markdown",
      "source": [
        "##Funciones"
      ],
      "metadata": {
        "id": "6ImmFSOQeFxL"
      }
    },
    {
      "cell_type": "code",
      "source": [
        "def multiplicar_por_pi(numero):\n",
        "    resultado = numero * 3.1415\n",
        "    return resultado\n"
      ],
      "metadata": {
        "id": "Ljvl9GZWeIU0"
      },
      "execution_count": null,
      "outputs": []
    },
    {
      "cell_type": "code",
      "source": [
        "res = multiplicar_por_pi(5)\n",
        "print(res)"
      ],
      "metadata": {
        "colab": {
          "base_uri": "https://localhost:8080/"
        },
        "id": "cl9YcikaOOZN",
        "outputId": "1762661c-b3c5-4481-f661-c1c8b5fd5ffe"
      },
      "execution_count": null,
      "outputs": [
        {
          "output_type": "stream",
          "name": "stdout",
          "text": [
            "15.707500000000001\n"
          ]
        }
      ]
    },
    {
      "cell_type": "code",
      "source": [
        "def calcular_promedio(lista_numeros):\n",
        "    suma_total = sum(lista_numeros)\n",
        "    cantidad_numeros = len(lista_numeros)\n",
        "\n",
        "    if cantidad_numeros == 0:\n",
        "      return \"no se puede calcular el promedio\"\n",
        "\n",
        "    promedio = suma_total/cantidad_numeros\n",
        "    return promedio\n"
      ],
      "metadata": {
        "id": "GANqngYQOVpp"
      },
      "execution_count": null,
      "outputs": []
    },
    {
      "cell_type": "code",
      "source": [
        "mi_lista = [1,2,3,4,5,6,7,8,9,10]\n",
        "resultado = calcular_promedio(mi_lista)\n",
        "print(resultado)\n",
        "print(f'El promedio es: {calcular_promedio(mi_lista)}')"
      ],
      "metadata": {
        "colab": {
          "base_uri": "https://localhost:8080/"
        },
        "id": "uIUm8a4WPcUc",
        "outputId": "e3ea6612-e596-4da1-f2d1-d02d322ebe93"
      },
      "execution_count": null,
      "outputs": [
        {
          "output_type": "stream",
          "name": "stdout",
          "text": [
            "5.5\n",
            "El promedio es: 5.5\n"
          ]
        }
      ]
    },
    {
      "cell_type": "markdown",
      "source": [
        "##MAP"
      ],
      "metadata": {
        "id": "fHzLuqVUWstC"
      }
    },
    {
      "cell_type": "code",
      "source": [
        "numeros = [1,2,3,4,5,6,7,8,9,10]\n",
        "\n",
        "def multiplicar_diez(numero):\n",
        "    return numero * 10"
      ],
      "metadata": {
        "id": "gXrbActzWrdg"
      },
      "execution_count": null,
      "outputs": []
    },
    {
      "cell_type": "code",
      "source": [
        "list(map(multiplicar_diez,numeros))"
      ],
      "metadata": {
        "colab": {
          "base_uri": "https://localhost:8080/"
        },
        "id": "-KJXZWJzXelz",
        "outputId": "036b8312-9f9a-472c-c534-55aa4c6c13cd"
      },
      "execution_count": null,
      "outputs": [
        {
          "output_type": "execute_result",
          "data": {
            "text/plain": [
              "[10, 20, 30, 40, 50, 60, 70, 80, 90, 100]"
            ]
          },
          "metadata": {},
          "execution_count": 12
        }
      ]
    },
    {
      "cell_type": "code",
      "source": [
        "def convertir_string(numero):\n",
        "\n",
        "    #return f'{numero} segundos'\n",
        "    return str(numero)+' segundos'\n",
        "\n",
        "list(map(convertir_string,numeros))"
      ],
      "metadata": {
        "colab": {
          "base_uri": "https://localhost:8080/"
        },
        "id": "a_p1OWjoaEcG",
        "outputId": "c02f75a8-77c5-4a3a-fb35-a1d9599a06e1"
      },
      "execution_count": null,
      "outputs": [
        {
          "output_type": "execute_result",
          "data": {
            "text/plain": [
              "['1 segundos',\n",
              " '2 segundos',\n",
              " '3 segundos',\n",
              " '4 segundos',\n",
              " '5 segundos',\n",
              " '6 segundos',\n",
              " '7 segundos',\n",
              " '8 segundos',\n",
              " '9 segundos',\n",
              " '10 segundos']"
            ]
          },
          "metadata": {},
          "execution_count": 22
        }
      ]
    },
    {
      "cell_type": "code",
      "source": [
        "def convertir_negativos(numero):\n",
        "    return numero*-1\n",
        "\n",
        "list(map(convertir_negativos,numeros))"
      ],
      "metadata": {
        "colab": {
          "base_uri": "https://localhost:8080/"
        },
        "id": "Fw1mIVCnanBa",
        "outputId": "1f0d6be1-1929-44d7-a2db-a0e48330835c"
      },
      "execution_count": null,
      "outputs": [
        {
          "output_type": "execute_result",
          "data": {
            "text/plain": [
              "[-1, -2, -3, -4, -5, -6, -7, -8, -9, -10]"
            ]
          },
          "metadata": {},
          "execution_count": 17
        }
      ]
    },
    {
      "cell_type": "code",
      "source": [
        "def convertir_menor_cinco(numero):\n",
        "    if numero < 5:\n",
        "      return 0\n",
        "    else:\n",
        "      return numero\n",
        "\n",
        "list(map(convertir_menor_cinco,numeros))"
      ],
      "metadata": {
        "colab": {
          "base_uri": "https://localhost:8080/"
        },
        "id": "XeYKvqywa9rk",
        "outputId": "3474e72e-813c-4004-88d0-ea0de35836e8"
      },
      "execution_count": null,
      "outputs": [
        {
          "output_type": "execute_result",
          "data": {
            "text/plain": [
              "[0, 0, 0, 0, 5, 6, 7, 8, 9, 10]"
            ]
          },
          "metadata": {},
          "execution_count": 18
        }
      ]
    },
    {
      "cell_type": "code",
      "source": [
        "def convertir_mayor_cinco(numero):\n",
        "    if numero > 5:\n",
        "      return True\n",
        "    else:\n",
        "      return False\n",
        "\n",
        "list(map(convertir_mayor_cinco,numeros))"
      ],
      "metadata": {
        "colab": {
          "base_uri": "https://localhost:8080/"
        },
        "id": "XrKHE0jrbU2u",
        "outputId": "84be6a56-c822-4a4f-9ca8-80adee204e9e"
      },
      "execution_count": null,
      "outputs": [
        {
          "output_type": "execute_result",
          "data": {
            "text/plain": [
              "[False, False, False, False, False, True, True, True, True, True]"
            ]
          },
          "metadata": {},
          "execution_count": 19
        }
      ]
    },
    {
      "cell_type": "markdown",
      "source": [
        "#RETO 1"
      ],
      "metadata": {
        "id": "kO6r-3WNgkQU"
      }
    },
    {
      "cell_type": "code",
      "source": [
        "proporciones = [0.45, 0.2, 0.78, 0.4, 0.77, 0.9, 0.4, 0.5, 0.67, 0.24, 0.73]\n",
        "\n",
        "def proporcion_a_porcentajes(decimal):\n",
        "    return f'{decimal*100} %'\n",
        "\n",
        "porcentajes = list(map(proporcion_a_porcentajes,proporciones))\n",
        "print(porcentajes)"
      ],
      "metadata": {
        "colab": {
          "base_uri": "https://localhost:8080/"
        },
        "id": "Uu3o3i6bbtZN",
        "outputId": "3bfcd973-5fd3-47b6-e403-32898e663414"
      },
      "execution_count": null,
      "outputs": [
        {
          "output_type": "stream",
          "name": "stdout",
          "text": [
            "['45.0%', '20.0%', '78.0%', '40.0%', '77.0%', '90.0%', '40.0%', '50.0%', '67.0%', '24.0%', '73.0%']\n"
          ]
        }
      ]
    },
    {
      "cell_type": "code",
      "source": [
        "numeros_a_string = [\"3\", \"7\", \"45\", \"89\", \"12\", \"9\", \"5\", \"89\", \"78\", \"87\", \"44\", \"45\", \"26\", \"84\", \"98\", \"46\", \"99\", \"84\"]\n",
        "\n",
        "def convertir_a_numeros(cadena):\n",
        "    return int(cadena)\n",
        "\n",
        "list(map(convertir_a_numeros,numeros_a_string))"
      ],
      "metadata": {
        "colab": {
          "base_uri": "https://localhost:8080/"
        },
        "id": "UdCjJ38SefPZ",
        "outputId": "50c2bd1f-7fdc-46ac-b98a-7a166452384e"
      },
      "execution_count": null,
      "outputs": [
        {
          "output_type": "execute_result",
          "data": {
            "text/plain": [
              "[3, 7, 45, 89, 12, 9, 5, 89, 78, 87, 44, 45, 26, 84, 98, 46, 99, 84]"
            ]
          },
          "metadata": {},
          "execution_count": 26
        }
      ]
    },
    {
      "cell_type": "markdown",
      "source": [
        "#FILTER"
      ],
      "metadata": {
        "id": "Oq-o3ZZsjdwn"
      }
    },
    {
      "cell_type": "code",
      "source": [
        "otra_lista = [1,2,3,4,5,6,7,8,9,10]\n",
        "\n",
        "\n",
        "def numeros_par(numero):\n",
        "    if numero % 2 ==0 :\n",
        "      return True\n",
        "    else:\n",
        "      return False\n"
      ],
      "metadata": {
        "id": "hfrK2A_mjhOB"
      },
      "execution_count": null,
      "outputs": []
    },
    {
      "cell_type": "code",
      "source": [
        "list(filter(numeros_par,otra_lista))"
      ],
      "metadata": {
        "colab": {
          "base_uri": "https://localhost:8080/"
        },
        "id": "An0P-2JZk0L2",
        "outputId": "3552719f-b1c4-4403-e2d9-9cb06ac371cc"
      },
      "execution_count": null,
      "outputs": [
        {
          "output_type": "execute_result",
          "data": {
            "text/plain": [
              "[2, 4, 6, 8, 10]"
            ]
          },
          "metadata": {},
          "execution_count": 31
        }
      ]
    },
    {
      "cell_type": "code",
      "source": [
        "def numeros_mayor_5(numero):\n",
        "    if numero > 5 :\n",
        "      return True\n",
        "\n",
        "list(filter(numeros_mayor_5,otra_lista))"
      ],
      "metadata": {
        "colab": {
          "base_uri": "https://localhost:8080/"
        },
        "id": "7A0mrMr3k-6B",
        "outputId": "0202557e-a131-4b53-a2f0-73b465bfa0a1"
      },
      "execution_count": null,
      "outputs": [
        {
          "output_type": "execute_result",
          "data": {
            "text/plain": [
              "[6, 7, 8, 9, 10]"
            ]
          },
          "metadata": {},
          "execution_count": 32
        }
      ]
    },
    {
      "cell_type": "code",
      "source": [
        "def palabra_tiene_mas_de_5_caracteres(palabra):\n",
        "        if len(palabra) > 5:\n",
        "            return True\n",
        "\n",
        "loquesea = [\"achicoria\", \"pasto\", \"sol\", \"loquillo\", \"moquillo\", \"sed\", \"pez\", \"jacaranda\", \"mil\"]\n",
        "\n",
        "list(filter(palabra_tiene_mas_de_5_caracteres, loquesea))"
      ],
      "metadata": {
        "colab": {
          "base_uri": "https://localhost:8080/"
        },
        "id": "B5JkB8PLnA2_",
        "outputId": "d876a3e2-c7b7-4cec-af47-c8b269d90d65"
      },
      "execution_count": null,
      "outputs": [
        {
          "output_type": "execute_result",
          "data": {
            "text/plain": [
              "['achicoria', 'loquillo', 'moquillo', 'jacaranda']"
            ]
          },
          "metadata": {},
          "execution_count": 37
        }
      ]
    },
    {
      "cell_type": "markdown",
      "source": [
        "#RETO 2"
      ],
      "metadata": {
        "id": "2aecRJ48oDwv"
      }
    },
    {
      "cell_type": "code",
      "source": [
        "edades = [12, 16, 19, None, 21, 25, 24, None, None, 16, 17, 25, 23, 28, None, 23, 35, 59, 67, None, 34, 21, 23, 15, 14, None, 18, 24, 23, 17]\n",
        "\n",
        "def sin_valor_none(valor):\n",
        "    if valor == None:\n",
        "      return False\n",
        "    else:\n",
        "      return True\n",
        "\n",
        "filtro=list(filter(sin_valor_none,edades))\n",
        "print(filtro)"
      ],
      "metadata": {
        "colab": {
          "base_uri": "https://localhost:8080/"
        },
        "id": "KOiq4-DVoDZM",
        "outputId": "c2f40c52-8675-4c6e-daf1-d04fcd2a4411"
      },
      "execution_count": null,
      "outputs": [
        {
          "output_type": "stream",
          "name": "stdout",
          "text": [
            "[12, 16, 19, 21, 25, 24, 16, 17, 25, 23, 28, 23, 35, 59, 67, 34, 21, 23, 15, 14, 18, 24, 23, 17]\n"
          ]
        }
      ]
    },
    {
      "cell_type": "code",
      "source": [
        "sueldos = [26, 32, 26, 30, 30, 32, 28, 30, 28, 110, 34, 30, 28, 26, 28, 30, 28, 85, 25, 30, 34, 34, 30, 30, 120, 28, 28, 120, 125]\n",
        "\n",
        "def sueldos_menores_40k(sueldo):\n",
        "    if sueldo < 40:\n",
        "      return True\n",
        "    else:\n",
        "      return False\n",
        "\n",
        "tipicos = list(filter(sueldos_menores_40k,sueldos))\n",
        "\n",
        "print(f'El sueldo promedio típico en la empresa es {sum(tipicos)/len(tipicos)}k pesos')"
      ],
      "metadata": {
        "colab": {
          "base_uri": "https://localhost:8080/"
        },
        "id": "RaRezGqwpOaf",
        "outputId": "bfa44290-272f-4de2-c5e1-3c7b9f0319b4"
      },
      "execution_count": null,
      "outputs": [
        {
          "output_type": "stream",
          "name": "stdout",
          "text": [
            "El sueldo promedio típico en la empresa es 29.375k pesos\n"
          ]
        }
      ]
    }
  ]
}